{
  "nbformat": 4,
  "nbformat_minor": 0,
  "metadata": {
    "colab": {
      "name": "mid1.ipynb",
      "provenance": [],
      "collapsed_sections": [],
      "authorship_tag": "ABX9TyMFQWWGFIpWnRNqb3DnsA+h",
      "include_colab_link": true
    },
    "kernelspec": {
      "name": "python3",
      "display_name": "Python 3"
    },
    "language_info": {
      "name": "python"
    }
  },
  "cells": [
    {
      "cell_type": "markdown",
      "metadata": {
        "id": "view-in-github",
        "colab_type": "text"
      },
      "source": [
        "<a href=\"https://colab.research.google.com/github/AnjaliGummuluri-050/c-50/blob/main/module2.ipynb\" target=\"_parent\"><img src=\"https://colab.research.google.com/assets/colab-badge.svg\" alt=\"Open In Colab\"/></a>"
      ]
    },
    {
      "cell_type": "markdown",
      "source": [
        "Program to print a specified list after removing the 0th, 4th and 5th elements.\n",
        "Sample List : ['Red', 'Green', 'White', 'Black', 'Pink', 'Yellow']\n",
        "Expected Output : ['Green', 'White', 'Black']\n",
        "x Program to get the difference between the two lists.\n",
        "x Program to find the second smallest number and second largest number in a list.\n",
        "x Given a list of numbers of list, write a Python program to create a list of tuples\n",
        "having first element as the number and second element as the square of the\n",
        "number.\n",
        "x Given list of tuples, remove all the tuples with length K.\n",
        "Input : test_list = [(4, 5), (4, ), (8, 6, 7), (1, ), (3, 4, 6, 7)], K = 2\n",
        "Output : [(4, ), (8, 6, 7), (1, ), (3, 4, 6, 7)]\n",
        "Explanation : (4, 5) of len = 2 is removed.\n",
        "x Program to generate and print a dictionary that contains a number (between 1\n",
        "and n) in the form (x, x*x).\n",
        "Sample Input: (n=5) :\n",
        "Expected Output : {1: 1, 2: 4, 3: 9, 4: 16, 5: 25}\n",
        "x Program to remove a key from a dictionary\n",
        "x Program to get the maximum and minimum value in a dictionary.\n",
        "x Program to perform operations on string using unicodes ,splitting of string,accessing\n",
        "elements of string using locations\n",
        "x Program for Counting occurrence of a certain element in a string, getting indexes that\n",
        "have matching elements.For ex -.In Rabbit count how many times b has occurred .\n",
        "Example-I have to go to a doctor and get myself checked. Count the number of\n",
        "occXrrences of µWo¶.\n",
        "x Program for replacing one substring by another For example - Rabbit - Replace µbb¶ b\\\n",
        "µcc¶\n",
        "x Program to Acronym generator for any user input (ex-input is Random memory access\n",
        "then output should be RMA).Example - Random number (RN)\n",
        "x Python function that accepts a string and calculates the number of uppercase\n",
        "letters and lowercase letters.\n",
        "x Program to count the number of strings where the string length is 2 or more and\n",
        "the first and last character are same from a given list of strings\n",
        "x Sample List : ['abc', 'xyz', 'aba', '1221'] Expected Result : 2"
      ],
      "metadata": {
        "id": "05ySFFwrKGgc"
      }
    },
    {
      "cell_type": "code",
      "source": [
        "mylist= ['Red', 'Green', 'White', 'Black', 'Pink', 'Yellow']\n",
        "del mylist[0]\n",
        "del mylist[3]\n",
        "del mylist[3]\n",
        "print(mylist)"
      ],
      "metadata": {
        "colab": {
          "base_uri": "https://localhost:8080/"
        },
        "id": "ZoRfFaoEKLy0",
        "outputId": "d3eeed8e-6b09-4519-b8e6-eabf04aaf3d4"
      },
      "execution_count": 8,
      "outputs": [
        {
          "output_type": "stream",
          "name": "stdout",
          "text": [
            "['Green', 'White', 'Black']\n"
          ]
        }
      ]
    },
    {
      "cell_type": "code",
      "source": [
        " #Program to get the difference between the two lists. \n",
        "l1=['apple','banana','squid']\n",
        "list2=['squid','mass','gainer']\n",
        "x=set(l1)\n",
        "y=set(list2)\n",
        "z=x.difference(y)\n",
        "w=y.difference(x)\n",
        "z.update(w)\n",
        "a=list(z)\n",
        "print(a)"
      ],
      "metadata": {
        "colab": {
          "base_uri": "https://localhost:8080/"
        },
        "id": "atnS_yEkMLXs",
        "outputId": "3b82797d-fc40-484c-cc0e-e0e047c65caf"
      },
      "execution_count": 17,
      "outputs": [
        {
          "output_type": "stream",
          "name": "stdout",
          "text": [
            "['apple', 'gainer', 'banana', 'mass']\n"
          ]
        }
      ]
    },
    {
      "cell_type": "code",
      "source": [
        "#create a list of tuples having first element as the number and second element as the square of the number.\n",
        "start=int(input(\"Enter the lower range: \"))\n",
        "end=int(input(\"Enter the upper range: \"))\n",
        "a=[(x,x**2) for x in range(start,end+1)]\n",
        "print(a)"
      ],
      "metadata": {
        "colab": {
          "base_uri": "https://localhost:8080/"
        },
        "id": "-uVe0i0HOYlN",
        "outputId": "2caed1e9-db9c-4059-fda2-428b2019700b"
      },
      "execution_count": 24,
      "outputs": [
        {
          "output_type": "stream",
          "name": "stdout",
          "text": [
            "Enter the lower range: 1\n",
            "Enter the upper range: 10\n",
            "[(1, 1), (2, 4), (3, 9), (4, 16), (5, 25), (6, 36), (7, 49), (8, 64), (9, 81), (10, 100)]\n"
          ]
        }
      ]
    },
    {
      "cell_type": "code",
      "source": [
        "#Given a list of tuples, remove all the tuples with length K\n",
        "list1=[(4, 5), (4, ), (8, 6, 7), (1, ), (3, 4, 6, 7)]\n",
        "k=int(input())\n",
        "y=len(list1)\n",
        "for x in range(0,y+1):\n",
        "  if y==k:\n",
        "    list1.remove(x)\n",
        "    print(list1)"
      ],
      "metadata": {
        "colab": {
          "base_uri": "https://localhost:8080/"
        },
        "id": "tPxKqg6zX229",
        "outputId": "34c11636-e94c-4c77-bb81-27b5b4ec377c"
      },
      "execution_count": 35,
      "outputs": [
        {
          "name": "stdout",
          "output_type": "stream",
          "text": [
            "3\n"
          ]
        }
      ]
    }
  ]
}